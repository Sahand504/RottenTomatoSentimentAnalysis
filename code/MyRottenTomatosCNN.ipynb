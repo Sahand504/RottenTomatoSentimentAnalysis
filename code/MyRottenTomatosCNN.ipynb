{
  "nbformat": 4,
  "nbformat_minor": 0,
  "metadata": {
    "colab": {
      "name": "MyRottenTomatosCNN.ipynb",
      "provenance": [],
      "collapsed_sections": [],
      "toc_visible": true
    },
    "kernelspec": {
      "name": "python3",
      "display_name": "Python 3"
    },
    "accelerator": "GPU"
  },
  "cells": [
    {
      "cell_type": "code",
      "metadata": {
        "id": "hGfeG9UtsB9t",
        "colab_type": "code",
        "colab": {}
      },
      "source": [
        "# from google.colab import drive\n",
        "# drive.mount('/content/gdrive')\n",
        "# import os\n",
        "# os.chdir(\"gdrive/My Drive/\")"
      ],
      "execution_count": 0,
      "outputs": []
    },
    {
      "cell_type": "code",
      "metadata": {
        "id": "UfOGFowbsIyI",
        "colab_type": "code",
        "outputId": "ba552088-f412-4818-914d-02317b5df683",
        "colab": {
          "base_uri": "https://localhost:8080/",
          "height": 96
        }
      },
      "source": [
        "import numpy as np\n",
        "import pandas as pd\n",
        "import nltk\n",
        "import re\n",
        "\n",
        "from nltk.tokenize import TweetTokenizer\n",
        "from nltk.tokenize import word_tokenize\n",
        "from nltk.corpus import stopwords \n",
        "from nltk import FreqDist\n",
        "from nltk.stem import WordNetLemmatizer\n",
        "from nltk.util import ngrams\n",
        "\n",
        "from sklearn.model_selection import train_test_split\n",
        "from sklearn.feature_extraction.text import TfidfVectorizer\n",
        "from sklearn.utils import resample\n",
        "\n",
        "from keras.utils import to_categorical"
      ],
      "execution_count": 2,
      "outputs": [
        {
          "output_type": "stream",
          "text": [
            "Using TensorFlow backend.\n"
          ],
          "name": "stderr"
        },
        {
          "output_type": "display_data",
          "data": {
            "text/html": [
              "<p style=\"color: red;\">\n",
              "The default version of TensorFlow in Colab will soon switch to TensorFlow 2.x.<br>\n",
              "We recommend you <a href=\"https://www.tensorflow.org/guide/migrate\" target=\"_blank\">upgrade</a> now \n",
              "or ensure your notebook will continue to use TensorFlow 1.x via the <code>%tensorflow_version 1.x</code> magic:\n",
              "<a href=\"https://colab.research.google.com/notebooks/tensorflow_version.ipynb\" target=\"_blank\">more info</a>.</p>\n"
            ],
            "text/plain": [
              "<IPython.core.display.HTML object>"
            ]
          },
          "metadata": {
            "tags": []
          }
        }
      ]
    },
    {
      "cell_type": "markdown",
      "metadata": {
        "id": "Xqw2oXYJcy9E",
        "colab_type": "text"
      },
      "source": [
        "Split Train (0.7) and Test (0.3) Sets"
      ]
    },
    {
      "cell_type": "code",
      "metadata": {
        "id": "WBYwOigWsZUh",
        "colab_type": "code",
        "colab": {}
      },
      "source": [
        "data = pd.read_csv('https://raw.githubusercontent.com/cacoderquan/Sentiment-Analysis-on-the-Rotten-Tomatoes-movie-review-dataset/master/train.tsv', sep=\"\\t\")\n",
        "X_train, X_test, Y_train, Y_test = train_test_split(data['Phrase'], data['Sentiment'], test_size=0.3, random_state=2003)"
      ],
      "execution_count": 0,
      "outputs": []
    },
    {
      "cell_type": "markdown",
      "metadata": {
        "id": "cho5Uh57605K",
        "colab_type": "text"
      },
      "source": [
        "Data Exploration"
      ]
    },
    {
      "cell_type": "code",
      "metadata": {
        "id": "1z_Z602-bzJj",
        "colab_type": "code",
        "outputId": "759f097b-2b91-4047-9127-9aae78740d70",
        "colab": {
          "base_uri": "https://localhost:8080/",
          "height": 118
        }
      },
      "source": [
        "Y_train.value_counts()"
      ],
      "execution_count": 4,
      "outputs": [
        {
          "output_type": "execute_result",
          "data": {
            "text/plain": [
              "2    55595\n",
              "3    23055\n",
              "1    19203\n",
              "4     6468\n",
              "0     4921\n",
              "Name: Sentiment, dtype: int64"
            ]
          },
          "metadata": {
            "tags": []
          },
          "execution_count": 4
        }
      ]
    },
    {
      "cell_type": "code",
      "metadata": {
        "id": "f49t7wcEalVo",
        "colab_type": "code",
        "outputId": "cea56a49-1e43-4602-fe10-2bc833b793cd",
        "colab": {
          "base_uri": "https://localhost:8080/",
          "height": 252
        }
      },
      "source": [
        "import matplotlib.pyplot as plt\n",
        "\n",
        "sizes = Y_train.value_counts().values.tolist()\n",
        "labels = 'neutral', 'somewhat positive', 'somewhat negative', 'positive', 'negative'\n",
        "fig1, ax1 = plt.subplots()\n",
        "ax1.pie(sizes, labels=labels, autopct='%1.1f%%',\n",
        "        shadow=True, startangle=90)\n",
        "# Equal aspect ratio ensures that pie is drawn as a circle.\n",
        "ax1.axis('equal')\n",
        "\n",
        "plt.show()"
      ],
      "execution_count": 5,
      "outputs": [
        {
          "output_type": "display_data",
          "data": {
            "image/png": "[encoded data removed]",
            "text/plain": [
              "<Figure size 432x288 with 1 Axes>"
            ]
          },
          "metadata": {
            "tags": []
          }
        }
      ]
    },
    {
      "cell_type": "code",
      "metadata": {
        "id": "qDL1Wxtr0xic",
        "colab_type": "code",
        "colab": {}
      },
      "source": [
        "X_train = data['Phrase']\n",
        "Y_train = data['Sentiment']"
      ],
      "execution_count": 0,
      "outputs": []
    },
    {
      "cell_type": "code",
      "metadata": {
        "id": "tyFBdUPY60eN",
        "colab_type": "code",
        "outputId": "fe306d4d-f4b9-4c14-b312-9314c3a9d1b3",
        "colab": {
          "base_uri": "https://localhost:8080/",
          "height": 118
        }
      },
      "source": [
        "X_train.head()"
      ],
      "execution_count": 7,
      "outputs": [
        {
          "output_type": "execute_result",
          "data": {
            "text/plain": [
              "0    A series of escapades demonstrating the adage ...\n",
              "1    A series of escapades demonstrating the adage ...\n",
              "2                                             A series\n",
              "3                                                    A\n",
              "4                                               series\n",
              "Name: Phrase, dtype: object"
            ]
          },
          "metadata": {
            "tags": []
          },
          "execution_count": 7
        }
      ]
    },
    {
      "cell_type": "code",
      "metadata": {
        "id": "WZi06fX67BSt",
        "colab_type": "code",
        "outputId": "a115b54e-16f2-4260-a67d-49ab36e40053",
        "colab": {
          "base_uri": "https://localhost:8080/",
          "height": 118
        }
      },
      "source": [
        "X_test.head()"
      ],
      "execution_count": 8,
      "outputs": [
        {
          "output_type": "execute_result",
          "data": {
            "text/plain": [
              "13510                  veteran\n",
              "61932         many definitions\n",
              "82549     a worthwhile glimpse\n",
              "137718       past Seagal films\n",
              "121990            banal script\n",
              "Name: Phrase, dtype: object"
            ]
          },
          "metadata": {
            "tags": []
          },
          "execution_count": 8
        }
      ]
    },
    {
      "cell_type": "markdown",
      "metadata": {
        "id": "q1mB6RXJx6X_",
        "colab_type": "text"
      },
      "source": [
        "Setup NLTK"
      ]
    },
    {
      "cell_type": "code",
      "metadata": {
        "id": "Dr4wzOvWsJO2",
        "colab_type": "code",
        "outputId": "057d1635-8bdd-4b0c-9c79-4faa118eda62",
        "colab": {
          "base_uri": "https://localhost:8080/",
          "height": 118
        }
      },
      "source": [
        "nltk.download('punkt')\n",
        "nltk.download('wordnet')\n",
        "nltk.download('stopwords')\n",
        "\n",
        "lemma = WordNetLemmatizer()\n",
        "stop_words = set(stopwords.words('english'))"
      ],
      "execution_count": 9,
      "outputs": [
        {
          "output_type": "stream",
          "text": [
            "[nltk_data] Downloading package punkt to /root/nltk_data...\n",
            "[nltk_data]   Package punkt is already up-to-date!\n",
            "[nltk_data] Downloading package wordnet to /root/nltk_data...\n",
            "[nltk_data]   Package wordnet is already up-to-date!\n",
            "[nltk_data] Downloading package stopwords to /root/nltk_data...\n",
            "[nltk_data]   Package stopwords is already up-to-date!\n"
          ],
          "name": "stdout"
        }
      ]
    },
    {
      "cell_type": "markdown",
      "metadata": {
        "id": "AaZJJF6VMobt",
        "colab_type": "text"
      },
      "source": [
        "Remove Punctuations and Numbers"
      ]
    },
    {
      "cell_type": "code",
      "metadata": {
        "id": "hNu-HMVGMIt2",
        "colab_type": "code",
        "colab": {}
      },
      "source": [
        "def remove_punctuations_and_numbers(review):\n",
        "  # Remove Punctuations and numbers\n",
        "  filtered_review = re.sub('[^a-zA-Z]',' ',review)\n",
        "  return filtered_review"
      ],
      "execution_count": 0,
      "outputs": []
    },
    {
      "cell_type": "markdown",
      "metadata": {
        "id": "mboWKPCEMmBE",
        "colab_type": "text"
      },
      "source": [
        "Remove Stopwords"
      ]
    },
    {
      "cell_type": "code",
      "metadata": {
        "id": "VVxqOGvHIc95",
        "colab_type": "code",
        "colab": {}
      },
      "source": [
        "def remove_stopwords(review):\n",
        "  # Remove Stopwords\n",
        "  word_tokens = word_tokenize(review) \n",
        "  filtered_review = [w for w in word_tokens if not w in stop_words]\n",
        "  filtered_review = ' '.join(filtered_review)\n",
        "  return filtered_review"
      ],
      "execution_count": 0,
      "outputs": []
    },
    {
      "cell_type": "markdown",
      "metadata": {
        "id": "HCaLaLbYNza3",
        "colab_type": "text"
      },
      "source": [
        "Lematizer"
      ]
    },
    {
      "cell_type": "code",
      "metadata": {
        "id": "ksPOP5jHN3jx",
        "colab_type": "code",
        "colab": {}
      },
      "source": [
        "def lematize(review):\n",
        "  filtered_review = [lemma.lemmatize(w) for w in word_tokenize(str(review).lower())]\n",
        "  filtered_review = ' '.join(filtered_review)\n",
        "  return filtered_review"
      ],
      "execution_count": 0,
      "outputs": []
    },
    {
      "cell_type": "markdown",
      "metadata": {
        "id": "TH4PZIhARgk9",
        "colab_type": "text"
      },
      "source": [
        "Test Preprocessing Functions"
      ]
    },
    {
      "cell_type": "code",
      "metadata": {
        "id": "CeL1-NmRK-LL",
        "colab_type": "code",
        "outputId": "5b01921e-f578-4aa4-8d2b-ef6955981c8b",
        "colab": {
          "base_uri": "https://localhost:8080/",
          "height": 67
        }
      },
      "source": [
        "test = 'The man is looking at the 2 old brown trees.'\n",
        "filtered_test_1 = remove_punctuations_and_numbers(test)\n",
        "filtered_test_2 = remove_stopwords(filtered_test_1)\n",
        "filtered_test_3 = lematize(filtered_test_2)\n",
        "print(filtered_test_1)\n",
        "print(filtered_test_2)\n",
        "print(filtered_test_3)"
      ],
      "execution_count": 13,
      "outputs": [
        {
          "output_type": "stream",
          "text": [
            "The man is looking at the   old brown trees \n",
            "The man looking old brown trees\n",
            "the man looking old brown tree\n"
          ],
          "name": "stdout"
        }
      ]
    },
    {
      "cell_type": "markdown",
      "metadata": {
        "id": "5vU5QC4qdIxP",
        "colab_type": "text"
      },
      "source": [
        "Preprocess Reviews"
      ]
    },
    {
      "cell_type": "code",
      "metadata": {
        "id": "d-TWWCVPICli",
        "colab_type": "code",
        "colab": {}
      },
      "source": [
        "def preprecess_reviews(reviews):\n",
        "  filtered_reviews = []\n",
        "  for review in reviews:\n",
        "    filtered_review = remove_punctuations_and_numbers(review)\n",
        "    filtered_review = remove_stopwords(filtered_review)\n",
        "    filtered_review = lematize(filtered_review)\n",
        "    filtered_reviews.append(filtered_review)\n",
        "  return filtered_reviews"
      ],
      "execution_count": 0,
      "outputs": []
    },
    {
      "cell_type": "markdown",
      "metadata": {
        "id": "ShYe3xeKbntu",
        "colab_type": "text"
      },
      "source": [
        "Apply Preprocessing"
      ]
    },
    {
      "cell_type": "code",
      "metadata": {
        "id": "PtYseiH2wojq",
        "colab_type": "code",
        "colab": {}
      },
      "source": [
        "column_names = [\"Filtered_Review\", \"Sentiment\"]\n",
        "train = pd.DataFrame(columns = column_names)\n",
        "test = pd.DataFrame(columns = column_names)\n",
        "\n",
        "# Apply Preprocessing to reviews\n",
        "train['Filtered_Review'] = preprecess_reviews(X_train.values)\n",
        "train['Sentiment'] = Y_train\n",
        "test['Filtered_Review'] = preprecess_reviews(X_test.values)\n",
        "test['Sentiment'] = Y_test"
      ],
      "execution_count": 0,
      "outputs": []
    },
    {
      "cell_type": "markdown",
      "metadata": {
        "id": "8HgjBytq9tfG",
        "colab_type": "text"
      },
      "source": [
        "Data Normalization (Downsampling)"
      ]
    },
    {
      "cell_type": "code",
      "metadata": {
        "id": "2OGYQJge9Exe",
        "colab_type": "code",
        "colab": {}
      },
      "source": [
        "def downsampling(train_0, train_1, train_2, train_3, train_4):\n",
        "\n",
        "  # returns the number of entries of the smallest class\n",
        "  MIN_SAMPLES = min(len(train_0), len(train_1), len(train_2), len(train_3), len(train_4))\n",
        "\n",
        "  train_0_sample = resample(train_0, replace=True, n_samples=MIN_SAMPLES, random_state=2003)\n",
        "  train_1_sample = resample(train_1, replace=True, n_samples=MIN_SAMPLES, random_state=2003)\n",
        "  train_2_sample = resample(train_2, replace=True, n_samples=MIN_SAMPLES, random_state=2003)\n",
        "  train_3_sample = resample(train_3, replace=True, n_samples=MIN_SAMPLES, random_state=2003)\n",
        "  train_4_sample = resample(train_4, replace=True, n_samples=MIN_SAMPLES, random_state=2003)\n",
        "  \n",
        "  df_normalized = pd.concat([train_0_sample, train_1_sample, train_2_sample,train_3_sample, train_4_sample])\n",
        "  return df_normalized"
      ],
      "execution_count": 0,
      "outputs": []
    },
    {
      "cell_type": "markdown",
      "metadata": {
        "id": "-Ar7jjUT9yb1",
        "colab_type": "text"
      },
      "source": [
        "Data Normalization (Upsampling)"
      ]
    },
    {
      "cell_type": "code",
      "metadata": {
        "id": "Ge-VJRENxJJO",
        "colab_type": "code",
        "colab": {}
      },
      "source": [
        "def upsampling(train_0, train_1, train_2, train_3, train_4):\n",
        "\n",
        "  # returns the number of entries of the largest class\n",
        "  MAX_SAMPLES = max(len(train_0), len(train_1), len(train_2), len(train_3), len(train_4))\n",
        "\n",
        "  train_0_sample = resample(train_0, replace=True, n_samples=MAX_SAMPLES, random_state=2003)\n",
        "  train_1_sample = resample(train_1, replace=True, n_samples=MAX_SAMPLES, random_state=2003)\n",
        "  train_2_sample = resample(train_2, replace=True, n_samples=MAX_SAMPLES, random_state=2003)\n",
        "  train_3_sample = resample(train_3, replace=True, n_samples=MAX_SAMPLES, random_state=2003)\n",
        "  train_4_sample = resample(train_4, replace=True, n_samples=MAX_SAMPLES, random_state=2003)\n",
        "  \n",
        "  df_normalized = pd.concat([train_0_sample, train_1_sample, train_2_sample,train_3_sample, train_4_sample])\n",
        "  return df_normalized"
      ],
      "execution_count": 0,
      "outputs": []
    },
    {
      "cell_type": "markdown",
      "metadata": {
        "id": "IDxtsT7TXmoS",
        "colab_type": "text"
      },
      "source": [
        "Normalize Data"
      ]
    },
    {
      "cell_type": "code",
      "metadata": {
        "id": "31E4orIvxI0H",
        "colab_type": "code",
        "colab": {}
      },
      "source": [
        "train_0 = train[train['Sentiment'] == 0]\n",
        "train_1 = train[train['Sentiment'] == 1]\n",
        "train_2 = train[train['Sentiment'] == 2]\n",
        "train_3 = train[train['Sentiment'] == 3]\n",
        "train_4 = train[train['Sentiment'] == 4]\n",
        "\n",
        "# df_normalized = downsampling(train_0, train_1, train_2, train_3, train_4)\n",
        "df_normalized = upsampling(train_0, train_1, train_2, train_3, train_4)"
      ],
      "execution_count": 0,
      "outputs": []
    },
    {
      "cell_type": "code",
      "metadata": {
        "id": "HpwHMl_a3aDY",
        "colab_type": "code",
        "colab": {}
      },
      "source": [
        "from keras.preprocessing.text import Tokenizer\n",
        "from keras.preprocessing import sequence,text\n",
        "from keras.preprocessing.sequence import pad_sequences\n",
        "from keras.layers import Dense, Embedding, Flatten, SpatialDropout1D\n",
        "from keras.layers.convolutional import Conv1D, MaxPooling1D\n",
        "from keras.models import Sequential\n",
        "from keras.models import load_model"
      ],
      "execution_count": 0,
      "outputs": []
    },
    {
      "cell_type": "markdown",
      "metadata": {
        "id": "EbC0ccJlb4qB",
        "colab_type": "text"
      },
      "source": [
        "Apply Data Normalization **ONLY** on Train Set **(Not Test Set)**\n",
        "\n",
        "Labels convert to categorical (One-Hot Encoding)"
      ]
    },
    {
      "cell_type": "code",
      "metadata": {
        "id": "rNlcieOR3bYZ",
        "colab_type": "code",
        "colab": {}
      },
      "source": [
        "X_train = df_normalized['Filtered_Review']\n",
        "Y_train = to_categorical(df_normalized['Sentiment'].values)\n",
        "\n",
        "# Test set should not normalized!\n",
        "Y_test = to_categorical(Y_test)"
      ],
      "execution_count": 0,
      "outputs": []
    },
    {
      "cell_type": "markdown",
      "metadata": {
        "id": "AoCRtm6ZcZh4",
        "colab_type": "text"
      },
      "source": [
        "Split Train (0.75) and Validation (0.25) Sets"
      ]
    },
    {
      "cell_type": "code",
      "metadata": {
        "id": "sZ8dPzK63dTW",
        "colab_type": "code",
        "colab": {}
      },
      "source": [
        "X_train, X_val, Y_train, Y_val = train_test_split(X_train, Y_train, test_size=0.25, random_state=2003)"
      ],
      "execution_count": 0,
      "outputs": []
    },
    {
      "cell_type": "markdown",
      "metadata": {
        "id": "QXDRXvi72dS2",
        "colab_type": "text"
      },
      "source": [
        "Returns Maximum Number of the Words in Reviews"
      ]
    },
    {
      "cell_type": "code",
      "metadata": {
        "id": "RnZf9Eyo2aC0",
        "colab_type": "code",
        "colab": {}
      },
      "source": [
        "def get_max_review_len(t):\n",
        "  reviews_len = []\n",
        "  for review in t:\n",
        "      token = word_tokenize(review)\n",
        "      reviews_len.append(len(token))      \n",
        "  return max(reviews_len)"
      ],
      "execution_count": 0,
      "outputs": []
    },
    {
      "cell_type": "markdown",
      "metadata": {
        "id": "8trbeQw91iKY",
        "colab_type": "text"
      },
      "source": [
        "Returns number of distinct words"
      ]
    },
    {
      "cell_type": "code",
      "metadata": {
        "id": "cs-vlk0C3h_g",
        "colab_type": "code",
        "colab": {}
      },
      "source": [
        "def get_num_words(t):\n",
        "  train_words = ' '.join(t)\n",
        "  train_words = word_tokenize(train_words)\n",
        "  dist=FreqDist(train_words)\n",
        "  return len(dist)"
      ],
      "execution_count": 0,
      "outputs": []
    },
    {
      "cell_type": "markdown",
      "metadata": {
        "id": "Nm98dq2i5Op5",
        "colab_type": "text"
      },
      "source": [
        "Initialize the Model's Parameters"
      ]
    },
    {
      "cell_type": "code",
      "metadata": {
        "id": "02PKoY9J3nGi",
        "colab_type": "code",
        "outputId": "2e47047a-810c-4147-c16b-761096598692",
        "colab": {
          "base_uri": "https://localhost:8080/",
          "height": 50
        }
      },
      "source": [
        "BATCH_SIZE = 128\n",
        "EPOCHS = 20\n",
        "CLASS_NUM = 5\n",
        "\n",
        "MAX_FEATURES = get_num_words(X_train)\n",
        "MAX_WORDS = get_max_review_len(X_train)\n",
        "print(MAX_FEATURES)\n",
        "print(MAX_WORDS)"
      ],
      "execution_count": 24,
      "outputs": [
        {
          "output_type": "stream",
          "text": [
            "13695\n",
            "31\n"
          ],
          "name": "stdout"
        }
      ]
    },
    {
      "cell_type": "code",
      "metadata": {
        "id": "8MOv1m-2FbEF",
        "colab_type": "code",
        "outputId": "724f2574-2b91-43e7-e429-87541e599026",
        "colab": {
          "base_uri": "https://localhost:8080/",
          "height": 218
        }
      },
      "source": [
        "X_train"
      ],
      "execution_count": 25,
      "outputs": [
        {
          "output_type": "execute_result",
          "data": {
            "text/plain": [
              "90470                                    inspiring ironic\n",
              "67443                                    first full flush\n",
              "1908                                   struggle furiously\n",
              "117329                                 enjoy transparency\n",
              "141062                               necessary enterprise\n",
              "                               ...                       \n",
              "42419                                          delightful\n",
              "46201                                                    \n",
              "84623     sewer rat could watch movie skeeved need shower\n",
              "21827                                      special effect\n",
              "44067                                       better payoff\n",
              "Name: Filtered_Review, Length: 298432, dtype: object"
            ]
          },
          "metadata": {
            "tags": []
          },
          "execution_count": 25
        }
      ]
    },
    {
      "cell_type": "code",
      "metadata": {
        "id": "NLc5rWxa3oKW",
        "colab_type": "code",
        "colab": {}
      },
      "source": [
        "tokenizer = Tokenizer(num_words=MAX_FEATURES)\n",
        "tokenizer.fit_on_texts(X_train)\n",
        "X_train = tokenizer.texts_to_sequences(X_train)\n",
        "X_train\n",
        "X_val = tokenizer.texts_to_sequences(X_val)\n",
        "X_test = tokenizer.texts_to_sequences(test['Filtered_Review'])\n",
        "# X_test"
      ],
      "execution_count": 0,
      "outputs": []
    },
    {
      "cell_type": "markdown",
      "metadata": {
        "id": "2dmOWLwJ7obe",
        "colab_type": "text"
      },
      "source": [
        "Add Padding to the Dataset for to make the Model Input Sizes same as each other"
      ]
    },
    {
      "cell_type": "code",
      "metadata": {
        "id": "mH3dGvEn7gf7",
        "colab_type": "code",
        "colab": {}
      },
      "source": [
        "def add_padding_to_seq(dataset):\n",
        "  return sequence.pad_sequences(dataset, maxlen=MAX_WORDS)\n",
        "\n",
        "X_train = add_padding_to_seq(X_train)\n",
        "X_val = add_padding_to_seq(X_val)\n",
        "X_test = add_padding_to_seq(X_test)"
      ],
      "execution_count": 0,
      "outputs": []
    },
    {
      "cell_type": "markdown",
      "metadata": {
        "id": "ckkQkDSWIlx4",
        "colab_type": "text"
      },
      "source": [
        "Initialize the CNN Model"
      ]
    },
    {
      "cell_type": "code",
      "metadata": {
        "id": "UUOtUwtr3qDd",
        "colab_type": "code",
        "outputId": "29792b02-2de2-4d17-9ad4-d1b9e4db1baa",
        "colab": {
          "base_uri": "https://localhost:8080/",
          "height": 255
        }
      },
      "source": [
        "model = Sequential()\n",
        "\n",
        "# Input Layer\n",
        "model.add(Embedding(MAX_FEATURES, 150, input_length=MAX_WORDS))\n",
        "\n",
        "# CNN\n",
        "model.add(SpatialDropout1D(0.5))\n",
        "\n",
        "model.add(Conv1D(128, kernel_size=3, padding='same', activation='relu'))\n",
        "model.add(MaxPooling1D(pool_size=2))\n",
        "\n",
        "model.add(Flatten())\n",
        "\n",
        "# Output layer\n",
        "model.add(Dense(CLASS_NUM, activation='softmax'))"
      ],
      "execution_count": 28,
      "outputs": [
        {
          "output_type": "stream",
          "text": [
            "WARNING:tensorflow:From /usr/local/lib/python3.6/dist-packages/keras/backend/tensorflow_backend.py:66: The name tf.get_default_graph is deprecated. Please use tf.compat.v1.get_default_graph instead.\n",
            "\n",
            "WARNING:tensorflow:From /usr/local/lib/python3.6/dist-packages/keras/backend/tensorflow_backend.py:541: The name tf.placeholder is deprecated. Please use tf.compat.v1.placeholder instead.\n",
            "\n",
            "WARNING:tensorflow:From /usr/local/lib/python3.6/dist-packages/keras/backend/tensorflow_backend.py:4432: The name tf.random_uniform is deprecated. Please use tf.random.uniform instead.\n",
            "\n",
            "WARNING:tensorflow:From /usr/local/lib/python3.6/dist-packages/keras/backend/tensorflow_backend.py:148: The name tf.placeholder_with_default is deprecated. Please use tf.compat.v1.placeholder_with_default instead.\n",
            "\n",
            "WARNING:tensorflow:From /usr/local/lib/python3.6/dist-packages/keras/backend/tensorflow_backend.py:3733: calling dropout (from tensorflow.python.ops.nn_ops) with keep_prob is deprecated and will be removed in a future version.\n",
            "Instructions for updating:\n",
            "Please use `rate` instead of `keep_prob`. Rate should be set to `rate = 1 - keep_prob`.\n",
            "WARNING:tensorflow:From /usr/local/lib/python3.6/dist-packages/keras/backend/tensorflow_backend.py:4267: The name tf.nn.max_pool is deprecated. Please use tf.nn.max_pool2d instead.\n",
            "\n"
          ],
          "name": "stdout"
        }
      ]
    },
    {
      "cell_type": "markdown",
      "metadata": {
        "id": "NXJbiEErJiK6",
        "colab_type": "text"
      },
      "source": [
        "Initilize evaluation metrics\n",
        "\n",
        "Recall, Precision, F1-Score"
      ]
    },
    {
      "cell_type": "code",
      "metadata": {
        "id": "b44lPvMo3rm0",
        "colab_type": "code",
        "colab": {}
      },
      "source": [
        "from keras import backend as K\n",
        "\n",
        "def recall_m(y_true, y_pred):\n",
        "    true_positives = K.sum(K.round(K.clip(y_true * y_pred, 0, 1)))\n",
        "    possible_positives = K.sum(K.round(K.clip(y_true, 0, 1)))\n",
        "    recall = true_positives / (possible_positives + K.epsilon())\n",
        "    return recall\n",
        "\n",
        "def precision_m(y_true, y_pred):\n",
        "    true_positives = K.sum(K.round(K.clip(y_true * y_pred, 0, 1)))\n",
        "    predicted_positives = K.sum(K.round(K.clip(y_pred, 0, 1)))\n",
        "    precision = true_positives / (predicted_positives + K.epsilon())\n",
        "    return precision\n",
        "\n",
        "def f1_m(y_true, y_pred):\n",
        "    precision = precision_m(y_true, y_pred)\n",
        "    recall = recall_m(y_true, y_pred)\n",
        "    return 2*((precision*recall)/(precision+recall+K.epsilon()))"
      ],
      "execution_count": 0,
      "outputs": []
    },
    {
      "cell_type": "markdown",
      "metadata": {
        "id": "stG-ME-wmgmF",
        "colab_type": "text"
      },
      "source": [
        "Train the Model using the Training and Validation Dataset"
      ]
    },
    {
      "cell_type": "code",
      "metadata": {
        "id": "CwFlfgFpXAOC",
        "colab_type": "code",
        "colab": {
          "base_uri": "https://localhost:8080/",
          "height": 1000
        },
        "outputId": "a3ad5d87-206f-4a56-e904-61bafe1ebb0d"
      },
      "source": [
        "model.compile(loss='categorical_crossentropy', optimizer='nadam', metrics=['acc', f1_m, precision_m, recall_m])\n",
        "history = model.fit(X_train, Y_train, validation_data=(X_val, Y_val), epochs=EPOCHS, batch_size=BATCH_SIZE, verbose=1)\n",
        "\n",
        "score, acc, f1, prec, recall = model.evaluate(X_test, Y_test, verbose=1)\n",
        "print('Score = ' + str(score))\n",
        "print('Accuracy = ' + str(acc))"
      ],
      "execution_count": 30,
      "outputs": [
        {
          "output_type": "stream",
          "text": [
            "WARNING:tensorflow:From /usr/local/lib/python3.6/dist-packages/keras/optimizers.py:793: The name tf.train.Optimizer is deprecated. Please use tf.compat.v1.train.Optimizer instead.\n",
            "\n",
            "WARNING:tensorflow:From /usr/local/lib/python3.6/dist-packages/keras/backend/tensorflow_backend.py:3576: The name tf.log is deprecated. Please use tf.math.log instead.\n",
            "\n",
            "WARNING:tensorflow:From /tensorflow-1.15.0/python3.6/tensorflow_core/python/ops/math_grad.py:1424: where (from tensorflow.python.ops.array_ops) is deprecated and will be removed in a future version.\n",
            "Instructions for updating:\n",
            "Use tf.where in 2.0, which has the same broadcast rule as np.where\n",
            "WARNING:tensorflow:From /usr/local/lib/python3.6/dist-packages/keras/backend/tensorflow_backend.py:1033: The name tf.assign_add is deprecated. Please use tf.compat.v1.assign_add instead.\n",
            "\n",
            "WARNING:tensorflow:From /usr/local/lib/python3.6/dist-packages/keras/backend/tensorflow_backend.py:1020: The name tf.assign is deprecated. Please use tf.compat.v1.assign instead.\n",
            "\n",
            "WARNING:tensorflow:From /usr/local/lib/python3.6/dist-packages/keras/backend/tensorflow_backend.py:3005: The name tf.Session is deprecated. Please use tf.compat.v1.Session instead.\n",
            "\n",
            "Train on 298432 samples, validate on 99478 samples\n",
            "Epoch 1/20\n",
            "WARNING:tensorflow:From /usr/local/lib/python3.6/dist-packages/keras/backend/tensorflow_backend.py:190: The name tf.get_default_session is deprecated. Please use tf.compat.v1.get_default_session instead.\n",
            "\n",
            "WARNING:tensorflow:From /usr/local/lib/python3.6/dist-packages/keras/backend/tensorflow_backend.py:197: The name tf.ConfigProto is deprecated. Please use tf.compat.v1.ConfigProto instead.\n",
            "\n",
            "WARNING:tensorflow:From /usr/local/lib/python3.6/dist-packages/keras/backend/tensorflow_backend.py:207: The name tf.global_variables is deprecated. Please use tf.compat.v1.global_variables instead.\n",
            "\n",
            "WARNING:tensorflow:From /usr/local/lib/python3.6/dist-packages/keras/backend/tensorflow_backend.py:216: The name tf.is_variable_initialized is deprecated. Please use tf.compat.v1.is_variable_initialized instead.\n",
            "\n",
            "WARNING:tensorflow:From /usr/local/lib/python3.6/dist-packages/keras/backend/tensorflow_backend.py:223: The name tf.variables_initializer is deprecated. Please use tf.compat.v1.variables_initializer instead.\n",
            "\n",
            "298432/298432 [==============================] - 26s 88us/step - loss: 0.8878 - acc: 0.6377 - f1_m: 0.5891 - precision_m: 0.6992 - recall_m: 0.5201 - val_loss: 0.6990 - val_acc: 0.7213 - val_f1_m: 0.7055 - val_precision_m: 0.7639 - val_recall_m: 0.6557\n",
            "Epoch 2/20\n",
            "298432/298432 [==============================] - 24s 80us/step - loss: 0.6793 - acc: 0.7327 - f1_m: 0.7220 - precision_m: 0.7683 - recall_m: 0.6814 - val_loss: 0.6305 - val_acc: 0.7558 - val_f1_m: 0.7472 - val_precision_m: 0.7854 - val_recall_m: 0.7127\n",
            "Epoch 3/20\n",
            "298432/298432 [==============================] - 24s 79us/step - loss: 0.6193 - acc: 0.7580 - f1_m: 0.7505 - precision_m: 0.7872 - recall_m: 0.7174 - val_loss: 0.6084 - val_acc: 0.7685 - val_f1_m: 0.7631 - val_precision_m: 0.7951 - val_recall_m: 0.7338\n",
            "Epoch 4/20\n",
            "298432/298432 [==============================] - 24s 80us/step - loss: 0.5822 - acc: 0.7731 - f1_m: 0.7673 - precision_m: 0.7993 - recall_m: 0.7379 - val_loss: 0.5794 - val_acc: 0.7797 - val_f1_m: 0.7742 - val_precision_m: 0.8057 - val_recall_m: 0.7453\n",
            "Epoch 5/20\n",
            "298432/298432 [==============================] - 23s 78us/step - loss: 0.5605 - acc: 0.7818 - f1_m: 0.7772 - precision_m: 0.8065 - recall_m: 0.7502 - val_loss: 0.5615 - val_acc: 0.7863 - val_f1_m: 0.7818 - val_precision_m: 0.8093 - val_recall_m: 0.7564\n",
            "Epoch 6/20\n",
            "298432/298432 [==============================] - 23s 78us/step - loss: 0.5443 - acc: 0.7893 - f1_m: 0.7849 - precision_m: 0.8124 - recall_m: 0.7594 - val_loss: 0.5651 - val_acc: 0.7918 - val_f1_m: 0.7862 - val_precision_m: 0.8129 - val_recall_m: 0.7615\n",
            "Epoch 7/20\n",
            "298432/298432 [==============================] - 24s 79us/step - loss: 0.5301 - acc: 0.7961 - f1_m: 0.7918 - precision_m: 0.8177 - recall_m: 0.7677 - val_loss: 0.5671 - val_acc: 0.7943 - val_f1_m: 0.7893 - val_precision_m: 0.8151 - val_recall_m: 0.7652\n",
            "Epoch 8/20\n",
            "298432/298432 [==============================] - 24s 80us/step - loss: 0.5195 - acc: 0.7998 - f1_m: 0.7957 - precision_m: 0.8204 - recall_m: 0.7726 - val_loss: 0.5428 - val_acc: 0.8011 - val_f1_m: 0.7957 - val_precision_m: 0.8216 - val_recall_m: 0.7715\n",
            "Epoch 9/20\n",
            "298432/298432 [==============================] - 24s 79us/step - loss: 0.5084 - acc: 0.8045 - f1_m: 0.8007 - precision_m: 0.8245 - recall_m: 0.7785 - val_loss: 0.5427 - val_acc: 0.8053 - val_f1_m: 0.8024 - val_precision_m: 0.8224 - val_recall_m: 0.7836\n",
            "Epoch 10/20\n",
            "298432/298432 [==============================] - 23s 79us/step - loss: 0.5002 - acc: 0.8082 - f1_m: 0.8050 - precision_m: 0.8279 - recall_m: 0.7834 - val_loss: 0.5396 - val_acc: 0.8062 - val_f1_m: 0.8035 - val_precision_m: 0.8240 - val_recall_m: 0.7841\n",
            "Epoch 11/20\n",
            "298432/298432 [==============================] - 23s 79us/step - loss: 0.4935 - acc: 0.8106 - f1_m: 0.8075 - precision_m: 0.8297 - recall_m: 0.7867 - val_loss: 0.5367 - val_acc: 0.8102 - val_f1_m: 0.8075 - val_precision_m: 0.8276 - val_recall_m: 0.7885\n",
            "Epoch 12/20\n",
            "298432/298432 [==============================] - 23s 78us/step - loss: 0.4881 - acc: 0.8139 - f1_m: 0.8108 - precision_m: 0.8325 - recall_m: 0.7904 - val_loss: 0.5337 - val_acc: 0.8096 - val_f1_m: 0.8061 - val_precision_m: 0.8286 - val_recall_m: 0.7850\n",
            "Epoch 13/20\n",
            "298432/298432 [==============================] - 24s 81us/step - loss: 0.4808 - acc: 0.8167 - f1_m: 0.8139 - precision_m: 0.8350 - recall_m: 0.7940 - val_loss: 0.5350 - val_acc: 0.8114 - val_f1_m: 0.8081 - val_precision_m: 0.8291 - val_recall_m: 0.7884\n",
            "Epoch 14/20\n",
            "298432/298432 [==============================] - 24s 80us/step - loss: 0.4762 - acc: 0.8171 - f1_m: 0.8147 - precision_m: 0.8355 - recall_m: 0.7950 - val_loss: 0.5293 - val_acc: 0.8150 - val_f1_m: 0.8126 - val_precision_m: 0.8315 - val_recall_m: 0.7947\n",
            "Epoch 15/20\n",
            "298432/298432 [==============================] - 24s 82us/step - loss: 0.4735 - acc: 0.8196 - f1_m: 0.8164 - precision_m: 0.8369 - recall_m: 0.7971 - val_loss: 0.5244 - val_acc: 0.8179 - val_f1_m: 0.8149 - val_precision_m: 0.8342 - val_recall_m: 0.7967\n",
            "Epoch 16/20\n",
            "298432/298432 [==============================] - 24s 81us/step - loss: 0.4683 - acc: 0.8214 - f1_m: 0.8185 - precision_m: 0.8387 - recall_m: 0.7995 - val_loss: 0.5273 - val_acc: 0.8175 - val_f1_m: 0.8149 - val_precision_m: 0.8328 - val_recall_m: 0.7980\n",
            "Epoch 17/20\n",
            "298432/298432 [==============================] - 24s 80us/step - loss: 0.4631 - acc: 0.8233 - f1_m: 0.8209 - precision_m: 0.8402 - recall_m: 0.8025 - val_loss: 0.5250 - val_acc: 0.8189 - val_f1_m: 0.8156 - val_precision_m: 0.8352 - val_recall_m: 0.7970\n",
            "Epoch 18/20\n",
            "298432/298432 [==============================] - 24s 81us/step - loss: 0.4605 - acc: 0.8234 - f1_m: 0.8212 - precision_m: 0.8406 - recall_m: 0.8028 - val_loss: 0.5311 - val_acc: 0.8199 - val_f1_m: 0.8171 - val_precision_m: 0.8348 - val_recall_m: 0.8002\n",
            "Epoch 19/20\n",
            "298432/298432 [==============================] - 24s 81us/step - loss: 0.4572 - acc: 0.8252 - f1_m: 0.8227 - precision_m: 0.8422 - recall_m: 0.8043 - val_loss: 0.5159 - val_acc: 0.8228 - val_f1_m: 0.8198 - val_precision_m: 0.8368 - val_recall_m: 0.8036\n",
            "Epoch 20/20\n",
            "298432/298432 [==============================] - 24s 81us/step - loss: 0.4541 - acc: 0.8270 - f1_m: 0.8245 - precision_m: 0.8435 - recall_m: 0.8064 - val_loss: 0.5199 - val_acc: 0.8221 - val_f1_m: 0.8195 - val_precision_m: 0.8372 - val_recall_m: 0.8027\n",
            "46818/46818 [==============================] - 3s 64us/step\n",
            "Score = 0.7480435590985605\n",
            "Accuracy = 0.7500533982656243\n"
          ],
          "name": "stdout"
        }
      ]
    },
    {
      "cell_type": "markdown",
      "metadata": {
        "id": "6vg3MrfxmtVp",
        "colab_type": "text"
      },
      "source": [
        "Plot Loss and Accuracy on Training Phase"
      ]
    },
    {
      "cell_type": "code",
      "metadata": {
        "id": "h4wXEKvXmxT2",
        "colab_type": "code",
        "colab": {
          "base_uri": "https://localhost:8080/",
          "height": 573
        },
        "outputId": "01f01d35-e354-45c2-8db0-b13da3cbb5be"
      },
      "source": [
        "import matplotlib.pyplot as plt\n",
        "\n",
        "# Plot training & validation accuracy values\n",
        "plt.plot(history.history['acc'])\n",
        "plt.title('Model accuracy')\n",
        "plt.ylabel('Accuracy')\n",
        "plt.xlabel('Epoch')\n",
        "plt.legend(['Train'], loc='upper left')\n",
        "plt.show()\n",
        "\n",
        "# Plot training & validation loss values\n",
        "plt.plot(history.history['loss'])\n",
        "plt.title('Model loss')\n",
        "plt.ylabel('Loss')\n",
        "plt.xlabel('Epoch')\n",
        "plt.legend(['Train'], loc='upper left')\n",
        "plt.show()"
      ],
      "execution_count": 31,
      "outputs": [
        {
          "output_type": "display_data",
          "data": {
            "image/png": "[encoded data removed]",
            "text/plain": [
              "<Figure size 432x288 with 1 Axes>"
            ]
          },
          "metadata": {
            "tags": []
          }
        },
        {
          "output_type": "display_data",
          "data": {
            "image/png": "[encoded data removed]",
            "text/plain": [
              "<Figure size 432x288 with 1 Axes>"
            ]
          },
          "metadata": {
            "tags": []
          }
        }
      ]
    },
    {
      "cell_type": "markdown",
      "metadata": {
        "id": "7R0CTT-qm8DK",
        "colab_type": "text"
      },
      "source": [
        "Save the Model for further use"
      ]
    },
    {
      "cell_type": "code",
      "metadata": {
        "id": "t5tutpOng94j",
        "colab_type": "code",
        "colab": {}
      },
      "source": [
        "MODEL_FILE_NAME = \"1114548_1dconv_reg\"\n",
        "model.save(MODEL_FILE_NAME)"
      ],
      "execution_count": 0,
      "outputs": []
    },
    {
      "cell_type": "markdown",
      "metadata": {
        "id": "wV7vmcUmm_vK",
        "colab_type": "text"
      },
      "source": [
        "Evaluate the Model using Testing dataset"
      ]
    },
    {
      "cell_type": "code",
      "metadata": {
        "id": "uH3mwHXSXBVR",
        "colab_type": "code",
        "colab": {
          "base_uri": "https://localhost:8080/",
          "height": 118
        },
        "outputId": "ba80a64c-b587-4189-eef1-1d6d0e56a02a"
      },
      "source": [
        "dependencies = {\n",
        "     'f1_m': f1_m,\n",
        "     'precision_m': precision_m,\n",
        "     'recall_m': recall_m\n",
        "}\n",
        "\n",
        "model = load_model(MODEL_FILE_NAME, custom_objects=dependencies)\n",
        "score, acc, f1, prec, recall = model.evaluate(X_test, Y_test, verbose=1)\n",
        "\n",
        "print('Score = ' + str(score))\n",
        "print('Accuracy = ' + str(acc))\n",
        "print('F1 = ' + str(f1))\n",
        "print(\"Precision = \" + str(prec))\n",
        "print(\"Recall = \" + str(recall))"
      ],
      "execution_count": 33,
      "outputs": [
        {
          "output_type": "stream",
          "text": [
            "46818/46818 [==============================] - 3s 66us/step\n",
            "Score = 0.7480435590985605\n",
            "Accuracy = 0.7500533982656243\n",
            "F1 = 0.7444211079307488\n",
            "Precision = 0.7661005431245345\n",
            "Recall = 0.7245717459096929\n"
          ],
          "name": "stdout"
        }
      ]
    },
    {
      "cell_type": "code",
      "metadata": {
        "id": "8niYqcXMgkDO",
        "colab_type": "code",
        "colab": {}
      },
      "source": [
        ""
      ],
      "execution_count": 0,
      "outputs": []
    }
  ]
}